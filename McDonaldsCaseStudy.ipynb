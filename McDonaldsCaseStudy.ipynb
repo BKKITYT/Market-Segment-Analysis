{
  "nbformat": 4,
  "nbformat_minor": 0,
  "metadata": {
    "colab": {
      "provenance": [],
      "authorship_tag": "ABX9TyOMj/Yr/55qanLxzcgG0cYp",
      "include_colab_link": true
    },
    "kernelspec": {
      "name": "python3",
      "display_name": "Python 3"
    },
    "language_info": {
      "name": "python"
    }
  },
  "cells": [
    {
      "cell_type": "markdown",
      "metadata": {
        "id": "view-in-github",
        "colab_type": "text"
      },
      "source": [
        "<a href=\"https://colab.research.google.com/github/BKKITYT/Market-Segment-Analysis/blob/main/McDonaldsCaseStudy.ipynb\" target=\"_parent\"><img src=\"https://colab.research.google.com/assets/colab-badge.svg\" alt=\"Open In Colab\"/></a>"
      ]
    },
    {
      "cell_type": "code",
      "execution_count": null,
      "metadata": {
        "colab": {
          "base_uri": "https://localhost:8080/",
          "height": 74
        },
        "id": "e6QWr6hAh8np",
        "outputId": "fc0ab519-5d27-40c7-bb9f-a3c744437ec8"
      },
      "outputs": [
        {
          "output_type": "display_data",
          "data": {
            "text/plain": [
              "<IPython.core.display.HTML object>"
            ],
            "text/html": [
              "\n",
              "     <input type=\"file\" id=\"files-9aea31b4-e007-4716-adc3-5d500aeebf52\" name=\"files[]\" multiple disabled\n",
              "        style=\"border:none\" />\n",
              "     <output id=\"result-9aea31b4-e007-4716-adc3-5d500aeebf52\">\n",
              "      Upload widget is only available when the cell has been executed in the\n",
              "      current browser session. Please rerun this cell to enable.\n",
              "      </output>\n",
              "      <script>// Copyright 2017 Google LLC\n",
              "//\n",
              "// Licensed under the Apache License, Version 2.0 (the \"License\");\n",
              "// you may not use this file except in compliance with the License.\n",
              "// You may obtain a copy of the License at\n",
              "//\n",
              "//      http://www.apache.org/licenses/LICENSE-2.0\n",
              "//\n",
              "// Unless required by applicable law or agreed to in writing, software\n",
              "// distributed under the License is distributed on an \"AS IS\" BASIS,\n",
              "// WITHOUT WARRANTIES OR CONDITIONS OF ANY KIND, either express or implied.\n",
              "// See the License for the specific language governing permissions and\n",
              "// limitations under the License.\n",
              "\n",
              "/**\n",
              " * @fileoverview Helpers for google.colab Python module.\n",
              " */\n",
              "(function(scope) {\n",
              "function span(text, styleAttributes = {}) {\n",
              "  const element = document.createElement('span');\n",
              "  element.textContent = text;\n",
              "  for (const key of Object.keys(styleAttributes)) {\n",
              "    element.style[key] = styleAttributes[key];\n",
              "  }\n",
              "  return element;\n",
              "}\n",
              "\n",
              "// Max number of bytes which will be uploaded at a time.\n",
              "const MAX_PAYLOAD_SIZE = 100 * 1024;\n",
              "\n",
              "function _uploadFiles(inputId, outputId) {\n",
              "  const steps = uploadFilesStep(inputId, outputId);\n",
              "  const outputElement = document.getElementById(outputId);\n",
              "  // Cache steps on the outputElement to make it available for the next call\n",
              "  // to uploadFilesContinue from Python.\n",
              "  outputElement.steps = steps;\n",
              "\n",
              "  return _uploadFilesContinue(outputId);\n",
              "}\n",
              "\n",
              "// This is roughly an async generator (not supported in the browser yet),\n",
              "// where there are multiple asynchronous steps and the Python side is going\n",
              "// to poll for completion of each step.\n",
              "// This uses a Promise to block the python side on completion of each step,\n",
              "// then passes the result of the previous step as the input to the next step.\n",
              "function _uploadFilesContinue(outputId) {\n",
              "  const outputElement = document.getElementById(outputId);\n",
              "  const steps = outputElement.steps;\n",
              "\n",
              "  const next = steps.next(outputElement.lastPromiseValue);\n",
              "  return Promise.resolve(next.value.promise).then((value) => {\n",
              "    // Cache the last promise value to make it available to the next\n",
              "    // step of the generator.\n",
              "    outputElement.lastPromiseValue = value;\n",
              "    return next.value.response;\n",
              "  });\n",
              "}\n",
              "\n",
              "/**\n",
              " * Generator function which is called between each async step of the upload\n",
              " * process.\n",
              " * @param {string} inputId Element ID of the input file picker element.\n",
              " * @param {string} outputId Element ID of the output display.\n",
              " * @return {!Iterable<!Object>} Iterable of next steps.\n",
              " */\n",
              "function* uploadFilesStep(inputId, outputId) {\n",
              "  const inputElement = document.getElementById(inputId);\n",
              "  inputElement.disabled = false;\n",
              "\n",
              "  const outputElement = document.getElementById(outputId);\n",
              "  outputElement.innerHTML = '';\n",
              "\n",
              "  const pickedPromise = new Promise((resolve) => {\n",
              "    inputElement.addEventListener('change', (e) => {\n",
              "      resolve(e.target.files);\n",
              "    });\n",
              "  });\n",
              "\n",
              "  const cancel = document.createElement('button');\n",
              "  inputElement.parentElement.appendChild(cancel);\n",
              "  cancel.textContent = 'Cancel upload';\n",
              "  const cancelPromise = new Promise((resolve) => {\n",
              "    cancel.onclick = () => {\n",
              "      resolve(null);\n",
              "    };\n",
              "  });\n",
              "\n",
              "  // Wait for the user to pick the files.\n",
              "  const files = yield {\n",
              "    promise: Promise.race([pickedPromise, cancelPromise]),\n",
              "    response: {\n",
              "      action: 'starting',\n",
              "    }\n",
              "  };\n",
              "\n",
              "  cancel.remove();\n",
              "\n",
              "  // Disable the input element since further picks are not allowed.\n",
              "  inputElement.disabled = true;\n",
              "\n",
              "  if (!files) {\n",
              "    return {\n",
              "      response: {\n",
              "        action: 'complete',\n",
              "      }\n",
              "    };\n",
              "  }\n",
              "\n",
              "  for (const file of files) {\n",
              "    const li = document.createElement('li');\n",
              "    li.append(span(file.name, {fontWeight: 'bold'}));\n",
              "    li.append(span(\n",
              "        `(${file.type || 'n/a'}) - ${file.size} bytes, ` +\n",
              "        `last modified: ${\n",
              "            file.lastModifiedDate ? file.lastModifiedDate.toLocaleDateString() :\n",
              "                                    'n/a'} - `));\n",
              "    const percent = span('0% done');\n",
              "    li.appendChild(percent);\n",
              "\n",
              "    outputElement.appendChild(li);\n",
              "\n",
              "    const fileDataPromise = new Promise((resolve) => {\n",
              "      const reader = new FileReader();\n",
              "      reader.onload = (e) => {\n",
              "        resolve(e.target.result);\n",
              "      };\n",
              "      reader.readAsArrayBuffer(file);\n",
              "    });\n",
              "    // Wait for the data to be ready.\n",
              "    let fileData = yield {\n",
              "      promise: fileDataPromise,\n",
              "      response: {\n",
              "        action: 'continue',\n",
              "      }\n",
              "    };\n",
              "\n",
              "    // Use a chunked sending to avoid message size limits. See b/62115660.\n",
              "    let position = 0;\n",
              "    do {\n",
              "      const length = Math.min(fileData.byteLength - position, MAX_PAYLOAD_SIZE);\n",
              "      const chunk = new Uint8Array(fileData, position, length);\n",
              "      position += length;\n",
              "\n",
              "      const base64 = btoa(String.fromCharCode.apply(null, chunk));\n",
              "      yield {\n",
              "        response: {\n",
              "          action: 'append',\n",
              "          file: file.name,\n",
              "          data: base64,\n",
              "        },\n",
              "      };\n",
              "\n",
              "      let percentDone = fileData.byteLength === 0 ?\n",
              "          100 :\n",
              "          Math.round((position / fileData.byteLength) * 100);\n",
              "      percent.textContent = `${percentDone}% done`;\n",
              "\n",
              "    } while (position < fileData.byteLength);\n",
              "  }\n",
              "\n",
              "  // All done.\n",
              "  yield {\n",
              "    response: {\n",
              "      action: 'complete',\n",
              "    }\n",
              "  };\n",
              "}\n",
              "\n",
              "scope.google = scope.google || {};\n",
              "scope.google.colab = scope.google.colab || {};\n",
              "scope.google.colab._files = {\n",
              "  _uploadFiles,\n",
              "  _uploadFilesContinue,\n",
              "};\n",
              "})(self);\n",
              "</script> "
            ]
          },
          "metadata": {}
        },
        {
          "output_type": "stream",
          "name": "stdout",
          "text": [
            "Saving mcdonalds.csv to mcdonalds (5).csv\n"
          ]
        }
      ],
      "source": [
        "from google.colab import files\n",
        "uploaded = files.upload()"
      ]
    },
    {
      "cell_type": "code",
      "source": [
        "import numpy as np # linear algebra\n",
        "import pandas as pd # data processing, CSV file I/O (e.g. pd.read_csv)"
      ],
      "metadata": {
        "id": "gEjXHF6VoYkJ"
      },
      "execution_count": null,
      "outputs": []
    },
    {
      "cell_type": "code",
      "source": [
        "data = pd.read_csv('mcdonalds.csv')"
      ],
      "metadata": {
        "id": "ZpcBjGfUoYml"
      },
      "execution_count": null,
      "outputs": []
    },
    {
      "cell_type": "code",
      "source": [
        "variable_names = data.columns\n",
        "print(\"Variable Names:\")\n",
        "print(variable_names)\n",
        "\n",
        "# Get the sample size (number of rows) and number of columns\n",
        "sample_size, num_columns = data.shape\n",
        "print(\"Sample Size:\", sample_size)\n",
        "print(\"Number of Columns:\", num_columns)\n",
        "\n",
        "# Show the first three rows of the dataset\n",
        "print(\"First Three Rows:\")\n",
        "print(data.head(3))"
      ],
      "metadata": {
        "colab": {
          "base_uri": "https://localhost:8080/"
        },
        "id": "fvUUjAXiZlUx",
        "outputId": "1279b1f7-1a2b-4437-e542-addcc8587fb7"
      },
      "execution_count": null,
      "outputs": [
        {
          "output_type": "stream",
          "name": "stdout",
          "text": [
            "Variable Names:\n",
            "Index(['yummy', 'convenient', 'spicy', 'fattening', 'greasy', 'fast', 'cheap',\n",
            "       'tasty', 'expensive', 'healthy', 'disgusting', 'Like', 'Age',\n",
            "       'VisitFrequency', 'Gender'],\n",
            "      dtype='object')\n",
            "Sample Size: 1453\n",
            "Number of Columns: 15\n",
            "First Three Rows:\n",
            "  yummy convenient spicy fattening greasy fast cheap tasty expensive healthy  \\\n",
            "0    No        Yes    No       Yes     No  Yes   Yes    No       Yes      No   \n",
            "1   Yes        Yes    No       Yes    Yes  Yes   Yes   Yes       Yes      No   \n",
            "2    No        Yes   Yes       Yes    Yes  Yes    No   Yes       Yes     Yes   \n",
            "\n",
            "  disgusting Like  Age      VisitFrequency  Gender  \n",
            "0         No   -3   61  Every three months  Female  \n",
            "1         No   +2   51  Every three months  Female  \n",
            "2         No   +1   62  Every three months  Female  \n"
          ]
        }
      ]
    },
    {
      "cell_type": "code",
      "source": [
        "dataarray = np.array(data)"
      ],
      "metadata": {
        "id": "iP95VUtNoYr4"
      },
      "execution_count": null,
      "outputs": []
    },
    {
      "cell_type": "code",
      "source": [
        "MD_x = data.iloc[:, 0:11].values"
      ],
      "metadata": {
        "id": "mFc2X4mnrn0X"
      },
      "execution_count": null,
      "outputs": []
    },
    {
      "cell_type": "code",
      "source": [
        "MD_x"
      ],
      "metadata": {
        "colab": {
          "base_uri": "https://localhost:8080/"
        },
        "id": "Y0-GfmQ_ahBl",
        "outputId": "0dcb5c11-6801-42c9-8d54-12c68555cf0d"
      },
      "execution_count": null,
      "outputs": [
        {
          "output_type": "execute_result",
          "data": {
            "text/plain": [
              "array([['No', 'Yes', 'No', ..., 'Yes', 'No', 'No'],\n",
              "       ['Yes', 'Yes', 'No', ..., 'Yes', 'No', 'No'],\n",
              "       ['No', 'Yes', 'Yes', ..., 'Yes', 'Yes', 'No'],\n",
              "       ...,\n",
              "       ['Yes', 'Yes', 'No', ..., 'Yes', 'No', 'No'],\n",
              "       ['Yes', 'Yes', 'No', ..., 'No', 'Yes', 'No'],\n",
              "       ['No', 'Yes', 'No', ..., 'Yes', 'No', 'Yes']], dtype=object)"
            ]
          },
          "metadata": {},
          "execution_count": 61
        }
      ]
    },
    {
      "cell_type": "code",
      "source": [
        "MD_x = (MD_x == \"Yes\").astype(int)\n",
        "\n",
        "average_values = MD_x.mean(axis=0)\n",
        "\n",
        "# Round the average values to two decimal places\n",
        "average_values = [round(value, 2) for value in average_values]\n",
        "\n",
        "print(\"Average Values for Transformed Segmentation Variables:\")\n",
        "print(average_values)"
      ],
      "metadata": {
        "id": "GO8gQWRa0Glb",
        "outputId": "d9361413-7a34-4bc4-fcd3-4092c6f75302",
        "colab": {
          "base_uri": "https://localhost:8080/"
        }
      },
      "execution_count": null,
      "outputs": [
        {
          "output_type": "stream",
          "name": "stdout",
          "text": [
            "Average Values for Transformed Segmentation Variables:\n",
            "[0.55, 0.91, 0.09, 0.87, 0.53, 0.9, 0.6, 0.64, 0.36, 0.2, 0.24]\n"
          ]
        }
      ]
    },
    {
      "cell_type": "code",
      "source": [
        "MD_x"
      ],
      "metadata": {
        "colab": {
          "base_uri": "https://localhost:8080/"
        },
        "id": "nL2sjTZdicdL",
        "outputId": "e10a40c6-b82f-427a-e111-c9f872b2c42d"
      },
      "execution_count": null,
      "outputs": [
        {
          "output_type": "execute_result",
          "data": {
            "text/plain": [
              "array([[0, 1, 0, ..., 1, 0, 0],\n",
              "       [1, 1, 0, ..., 1, 0, 0],\n",
              "       [0, 1, 1, ..., 1, 1, 0],\n",
              "       ...,\n",
              "       [1, 1, 0, ..., 1, 0, 0],\n",
              "       [1, 1, 0, ..., 0, 1, 0],\n",
              "       [0, 1, 0, ..., 1, 0, 1]])"
            ]
          },
          "metadata": {},
          "execution_count": 63
        }
      ]
    },
    {
      "cell_type": "code",
      "source": [
        "from sklearn.decomposition import PCA\n",
        "from sklearn.preprocessing import StandardScaler\n"
      ],
      "metadata": {
        "id": "C4D__ABfVmtD"
      },
      "execution_count": null,
      "outputs": []
    },
    {
      "cell_type": "code",
      "source": [
        "MD_pca = PCA()\n",
        "MD_pca.fit(MD_x)\n",
        "\n",
        "# Display the summary\n",
        "explained_variance_ratio = MD_pca.explained_variance_ratio_\n",
        "cumulative_variance_ratio = np.cumsum(explained_variance_ratio)\n",
        "n_components = len(cumulative_variance_ratio)\n",
        "\n",
        "print(\"Standard deviation (Eigenvalues):\", MD_pca.singular_values_)\n",
        "print(\"Proportion of Variance Explained:\", explained_variance_ratio)\n",
        "print(\"Cumulative Proportion of Variance Explained:\", cumulative_variance_ratio)\n",
        "print(\"Number of Components:\", n_components)"
      ],
      "metadata": {
        "colab": {
          "base_uri": "https://localhost:8080/"
        },
        "id": "-xbziM-Aco1R",
        "outputId": "0824e40d-00e8-4704-c4a4-e16fbae95b18"
      },
      "execution_count": null,
      "outputs": [
        {
          "output_type": "stream",
          "name": "stdout",
          "text": [
            "Standard deviation (Eigenvalues): [28.8 23.1 19.2 15.2 12.9 11.8 11.  10.5 10.1  9.5  9. ]\n",
            "Proportion of Variance Explained: [0.3 0.2 0.1 0.1 0.1 0.1 0.  0.  0.  0.  0. ]\n",
            "Cumulative Proportion of Variance Explained: [0.3 0.5 0.6 0.7 0.8 0.8 0.9 0.9 0.9 1.  1. ]\n",
            "Number of Components: 11\n"
          ]
        }
      ]
    },
    {
      "cell_type": "code",
      "source": [
        "import matplotlib.pyplot as plt\n",
        "# Plot the PCA results\n",
        "principalComponents = MD_pca.fit_transform(MD_x)\n",
        "plt.scatter(principalComponents[:, 0], principalComponents[:, 1], c='grey')\n",
        "plt.xlabel('Principal Component 1')\n",
        "plt.ylabel('Principal Component 2')\n",
        "plt.title('PCA Plot')\n",
        "plt.show()\n",
        "\n",
        "# Print the PCA axes (eigenvalues)\n",
        "print(\"PCA Axes (Eigenvalues):\")\n",
        "print(MD_pca.components_)"
      ],
      "metadata": {
        "colab": {
          "base_uri": "https://localhost:8080/",
          "height": 686
        },
        "id": "cds_6WDjjJLD",
        "outputId": "0a1f5e09-d32c-4b5e-8cfe-b5c262047743"
      },
      "execution_count": null,
      "outputs": [
        {
          "output_type": "display_data",
          "data": {
            "text/plain": [
              "<Figure size 640x480 with 1 Axes>"
            ],
            "image/png": "[encoded data removed]"
          },
          "metadata": {}
        },
        {
          "output_type": "stream",
          "name": "stdout",
          "text": [
            "PCA Axes (Eigenvalues):\n",
            "[[-0.5 -0.2 -0.   0.1  0.3 -0.1 -0.3 -0.5  0.3 -0.2  0.4]\n",
            " [ 0.4  0.   0.  -0.  -0.1 -0.1 -0.6  0.3  0.6  0.1 -0.1]\n",
            " [-0.3 -0.1 -0.  -0.3 -0.8 -0.1 -0.1 -0.3  0.   0.2 -0.1]\n",
            " [ 0.1 -0.1  0.2 -0.4  0.3 -0.1  0.1 -0.   0.1  0.8  0.4]\n",
            " [-0.3  0.3  0.1 -0.1  0.4  0.1 -0.1 -0.2 -0.   0.3 -0.7]\n",
            " [ 0.2 -0.3 -0.4 -0.4  0.2 -0.6 -0.1 -0.1 -0.3 -0.2 -0.2]\n",
            " [-0.3 -0.1  0.7 -0.4  0.  -0.1 -0.   0.4 -0.1 -0.3 -0. ]\n",
            " [ 0.  -0.1  0.4  0.6 -0.1 -0.6  0.1 -0.1  0.   0.2 -0.2]\n",
            " [ 0.6 -0.   0.4 -0.2 -0.   0.2  0.1 -0.6  0.1 -0.2 -0.1]\n",
            " [-0.1 -0.7 -0.1 -0.   0.   0.2  0.4  0.1  0.5 -0.  -0.3]\n",
            " [ 0.  -0.5  0.1  0.3  0.   0.3 -0.5  0.  -0.5  0.2 -0. ]]\n"
          ]
        }
      ]
    },
    {
      "cell_type": "code",
      "source": [
        "relabel_map = {old_label: new_label for new_label, old_label in enumerate(np.unique(cluster_results))}"
      ],
      "metadata": {
        "id": "qY7iB4530mkI"
      },
      "execution_count": null,
      "outputs": []
    },
    {
      "cell_type": "code",
      "source": [
        "relabel_map"
      ],
      "metadata": {
        "colab": {
          "base_uri": "https://localhost:8080/"
        },
        "id": "lzIWGlk6zxky",
        "outputId": "a3c5be39-8750-4988-da09-b26a2c536eca"
      },
      "execution_count": null,
      "outputs": [
        {
          "output_type": "execute_result",
          "data": {
            "text/plain": [
              "{0: 0, 1: 1, 2: 2, 3: 3, 4: 4, 5: 5, 6: 6, 7: 7}"
            ]
          },
          "metadata": {},
          "execution_count": 74
        }
      ]
    },
    {
      "cell_type": "code",
      "source": [
        "cluster_results"
      ],
      "metadata": {
        "colab": {
          "base_uri": "https://localhost:8080/"
        },
        "id": "J2mbUcc-z6oM",
        "outputId": "b40caa65-bb1c-4051-c262-b878bd28dc23"
      },
      "execution_count": null,
      "outputs": [
        {
          "output_type": "execute_result",
          "data": {
            "text/plain": [
              "[array([1, 0, 0, ..., 0, 0, 1], dtype=int32),\n",
              " array([0, 1, 1, ..., 1, 2, 0], dtype=int32),\n",
              " array([0, 2, 2, ..., 2, 1, 0], dtype=int32),\n",
              " array([2, 1, 3, ..., 3, 0, 4], dtype=int32),\n",
              " array([5, 0, 4, ..., 0, 3, 2], dtype=int32),\n",
              " array([2, 5, 3, ..., 1, 6, 1], dtype=int32),\n",
              " array([2, 1, 3, ..., 1, 6, 7], dtype=int32)]"
            ]
          },
          "metadata": {},
          "execution_count": 70
        }
      ]
    },
    {
      "cell_type": "code",
      "source": [
        "relabeled_clusters = []\n",
        "for cluster_labels in cluster_results:\n",
        "    relabeled_cluster = [relabel_map[label] for label in cluster_labels]\n",
        "    relabeled_clusters.append(relabeled_cluster)"
      ],
      "metadata": {
        "id": "_wxHWYbEs44d"
      },
      "execution_count": null,
      "outputs": []
    },
    {
      "cell_type": "code",
      "source": [
        "wcss = []\n",
        "\n",
        "for cluster_labels in relabeled_clusters:\n",
        "    kmeans = KMeans(n_clusters=len(np.unique(cluster_labels)))\n",
        "    kmeans.fit(MD_x_scaled)\n",
        "    wcss.append(kmeans.inertia_)\n",
        "plt.figure(figsize=(8, 6))\n",
        "plt.plot(k_range, wcss, marker='o', linestyle='-', color='b')\n",
        "plt.xlabel('Number of Segments')\n",
        "plt.ylabel('Within-Cluster Sum of Squares (WCSS)')\n",
        "plt.title('Elbow Method for Optimal Number of Segments')\n",
        "plt.grid()\n",
        "plt.show()"
      ],
      "metadata": {
        "colab": {
          "base_uri": "https://localhost:8080/",
          "height": 834
        },
        "id": "zHP_IxYvs5Dg",
        "outputId": "ebccf5c9-67a7-48e1-af0e-330cf78e7b11"
      },
      "execution_count": null,
      "outputs": [
        {
          "output_type": "stream",
          "name": "stderr",
          "text": [
            "/usr/local/lib/python3.10/dist-packages/sklearn/cluster/_kmeans.py:870: FutureWarning: The default value of `n_init` will change from 10 to 'auto' in 1.4. Set the value of `n_init` explicitly to suppress the warning\n",
            "  warnings.warn(\n",
            "/usr/local/lib/python3.10/dist-packages/sklearn/cluster/_kmeans.py:870: FutureWarning: The default value of `n_init` will change from 10 to 'auto' in 1.4. Set the value of `n_init` explicitly to suppress the warning\n",
            "  warnings.warn(\n",
            "/usr/local/lib/python3.10/dist-packages/sklearn/cluster/_kmeans.py:870: FutureWarning: The default value of `n_init` will change from 10 to 'auto' in 1.4. Set the value of `n_init` explicitly to suppress the warning\n",
            "  warnings.warn(\n",
            "/usr/local/lib/python3.10/dist-packages/sklearn/cluster/_kmeans.py:870: FutureWarning: The default value of `n_init` will change from 10 to 'auto' in 1.4. Set the value of `n_init` explicitly to suppress the warning\n",
            "  warnings.warn(\n",
            "/usr/local/lib/python3.10/dist-packages/sklearn/cluster/_kmeans.py:870: FutureWarning: The default value of `n_init` will change from 10 to 'auto' in 1.4. Set the value of `n_init` explicitly to suppress the warning\n",
            "  warnings.warn(\n",
            "/usr/local/lib/python3.10/dist-packages/sklearn/cluster/_kmeans.py:870: FutureWarning: The default value of `n_init` will change from 10 to 'auto' in 1.4. Set the value of `n_init` explicitly to suppress the warning\n",
            "  warnings.warn(\n",
            "/usr/local/lib/python3.10/dist-packages/sklearn/cluster/_kmeans.py:870: FutureWarning: The default value of `n_init` will change from 10 to 'auto' in 1.4. Set the value of `n_init` explicitly to suppress the warning\n",
            "  warnings.warn(\n"
          ]
        },
        {
          "output_type": "display_data",
          "data": {
            "text/plain": [
              "<Figure size 800x600 with 1 Axes>"
            ],
            "image/png": "[encoded data removed]"
          },
          "metadata": {}
        }
      ]
    }
  ]
}